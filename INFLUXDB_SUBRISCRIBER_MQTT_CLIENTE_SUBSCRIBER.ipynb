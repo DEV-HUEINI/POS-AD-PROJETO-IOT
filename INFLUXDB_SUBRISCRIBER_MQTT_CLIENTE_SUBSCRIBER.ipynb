{
  "nbformat": 4,
  "nbformat_minor": 0,
  "metadata": {
    "colab": {
      "provenance": []
    },
    "kernelspec": {
      "name": "python3",
      "display_name": "Python 3"
    },
    "language_info": {
      "name": "python"
    }
  },
  "cells": [
    {
      "cell_type": "code",
      "source": [
        "!pip install paho-mqtt\n",
        "!pip install influxdb-client"
      ],
      "metadata": {
        "id": "ecrPTOI_4f8T"
      },
      "execution_count": null,
      "outputs": []
    },
    {
      "cell_type": "code",
      "source": [
        "import paho.mqtt.client as mqtt\n",
        "import time\n",
        "import json\n",
        "from influxdb_client import InfluxDBClient, Point, WritePrecision\n",
        "from influxdb_client.client.write_api import SYNCHRONOUS\n",
        "\n",
        "\n",
        "# Configurações do Broker MQTT\n",
        "MQTT_BROKER = \"broker.hivemq.com\"\n",
        "MQTT_PORT = 8883  # Porta para conexão TLS/SSL\n",
        "MQTT_USER = \"teste\"  # Insira seu nome de usuário aqui\n",
        "MQTT_PASSWORD = \"TESTEteste@2024\"  # Insira sua senha aqui\n",
        "MQTT_TOPIC = \"teste_topico\"\n",
        "\n",
        "# Configurações do InfluxDB\n",
        "INFLUXDB_URL = \"https://us-east-1-1.aws.cloud2.influxdata.com\"\n",
        "INFLUXDB_TOKEN = \"s5TjFcL80railpA3GKRqVvnT5iX-7uxsPAfshrH_6GRK0Elem_QwIomCOgdRwEyGusSAvSecReWLOuTrvM4E4w==\"\n",
        "INFLUXDB_ORG = \"Uninove\"\n",
        "INFLUXDB_BUCKET = \"Sensores\"\n",
        "\n",
        "# Conectar ao InfluxDB\n",
        "influxdb_client = InfluxDBClient(url=INFLUXDB_URL, token=INFLUXDB_TOKEN, org=INFLUXDB_ORG)\n",
        "write_api = influxdb_client.write_api(write_options=SYNCHRONOUS)\n",
        "\n",
        "# Variável para armazenar a última mensagem recebida\n",
        "last_message = None\n",
        "\n",
        "# Callback quando a conexão é estabelecida\n",
        "def on_connect(client, userdata, flags, rc):\n",
        "    if rc == 0:\n",
        "        print(\"Connected to MQTT Broker!\")\n",
        "        client.subscribe(MQTT_TOPIC)  # Inscreve-se no tópico onde os dados estão sendo publicados\n",
        "    else:\n",
        "        print(f\"Failed to connect, return code {rc}\")\n",
        "\n",
        "# Callback quando uma mensagem é recebida\n",
        "def on_message(client, userdata, msg):\n",
        "    global last_message\n",
        "    last_message = msg.payload.decode()  # Atualiza a última mensagem recebida\n",
        "    print(f\"Received message from topic {MQTT_TOPIC}: {last_message}\")\n",
        "    process_message(last_message)\n",
        "\n",
        "# Configuração do cliente MQTT\n",
        "client = mqtt.Client()\n",
        "client.username_pw_set(MQTT_USER, MQTT_PASSWORD)\n",
        "client.tls_set()  # Usar TLS para a conexão segura\n",
        "\n",
        "client.on_connect = on_connect\n",
        "client.on_message = on_message\n",
        "\n",
        "# Conectar ao broker MQTT\n",
        "client.connect(MQTT_BROKER, MQTT_PORT)\n",
        "\n",
        "# Função para processar a mensagem recebida\n",
        "def process_message(message):\n",
        "    try:\n",
        "        data = json.loads(message)\n",
        "        temperature = data['temperature']\n",
        "        humidity = data['humidity']\n",
        "        store_in_influxdb(temperature=temperature, humidity=humidity)\n",
        "    except json.JSONDecodeError:\n",
        "        print(\"Failed to decode JSON from message.\")\n",
        "    except KeyError as e:\n",
        "        print(f\"Missing expected data in message: {e}\")\n",
        "\n",
        "# Função para armazenar os dados no InfluxDB\n",
        "def store_in_influxdb(temperature, humidity):\n",
        "    # Convertendo os valores float para int\n",
        "    temperature_int = int(temperature)\n",
        "    humidity_int = int(humidity)\n",
        "\n",
        "    point = Point(\"sensor_dht22\")\\\n",
        "        .field(\"temperature\", temperature_int)\\\n",
        "        .field(\"humidity\", humidity_int)\n",
        "    write_api.write(bucket=INFLUXDB_BUCKET, org=INFLUXDB_ORG, record=point)\n",
        "    print(\"Dados Inseridos no InfluxDB com Sucesso!\")\n",
        "\n",
        "# Loop de leitura com intervalo de 2 segundos\n",
        "client.loop_start()  # Inicia o loop MQTT em segundo plano\n",
        "\n",
        "try:\n",
        "    while True:\n",
        "        time.sleep(2)  # Aguarda 2 segundos antes de processar a próxima mensagem\n",
        "except KeyboardInterrupt:\n",
        "    print(\"Exiting...\")\n",
        "finally:\n",
        "    client.loop_stop()  # Para o loop MQTT\n",
        "    client.disconnect()  # Desconecta do broker"
      ],
      "metadata": {
        "colab": {
          "base_uri": "https://localhost:8080/"
        },
        "id": "eO1eDLm7Q4VS",
        "outputId": "0f3d4075-3cd4-4bc6-f3d6-bac871f29510"
      },
      "execution_count": 13,
      "outputs": [
        {
          "output_type": "stream",
          "name": "stderr",
          "text": [
            "<ipython-input-13-dde17c811d4d>:44: DeprecationWarning: Callback API version 1 is deprecated, update to latest version\n",
            "  client = mqtt.Client()\n"
          ]
        },
        {
          "output_type": "stream",
          "name": "stdout",
          "text": [
            "Connected to MQTT Broker!\n",
            "Received message from topic teste_topico: {\"humidity\": 98.5, \"temperature\": 80.0}\n",
            "Dados Inseridos no InfluxDB com Sucesso!\n",
            "Received message from topic teste_topico: {\"humidity\": 98.5, \"temperature\": 80.0}\n",
            "Dados Inseridos no InfluxDB com Sucesso!\n",
            "Received message from topic teste_topico: {\"humidity\": 98.5, \"temperature\": 80.0}\n",
            "Dados Inseridos no InfluxDB com Sucesso!\n",
            "Received message from topic teste_topico: {\"humidity\": 98.5, \"temperature\": 80.0}\n",
            "Dados Inseridos no InfluxDB com Sucesso!\n",
            "Received message from topic teste_topico: {\"humidity\": 98.5, \"temperature\": 80.0}\n",
            "Dados Inseridos no InfluxDB com Sucesso!\n",
            "Received message from topic teste_topico: {\"humidity\": 98.5, \"temperature\": 80.0}\n",
            "Dados Inseridos no InfluxDB com Sucesso!\n",
            "Received message from topic teste_topico: {\"humidity\": 98.5, \"temperature\": 80.0}\n",
            "Dados Inseridos no InfluxDB com Sucesso!\n",
            "Exiting...\n"
          ]
        }
      ]
    }
  ]
}